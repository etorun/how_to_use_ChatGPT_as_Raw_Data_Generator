{
 "cells": [
  {
   "cell_type": "code",
   "execution_count": 4,
   "metadata": {},
   "outputs": [
    {
     "data": {
      "text/plain": [
       "'/Users/homemini/Desktop/How to use ChatGPT as Raw Data Generator/calendar_2024_2025.csv'"
      ]
     },
     "execution_count": 4,
     "metadata": {},
     "output_type": "execute_result"
    }
   ],
   "source": [
    "import pandas as pd\n",
    "\n",
    "# Generate date range for 2024 and 2025\n",
    "date_range = pd.date_range(start=\"2024-01-01\", end=\"2025-12-31\", freq=\"D\")\n",
    "\n",
    "# Create DataFrame\n",
    "calendar_df = pd.DataFrame({\n",
    "    \"Date\": date_range.strftime(\"%Y-%m-%d\"),\n",
    "    \"Year\": date_range.year,\n",
    "    \"Month\": date_range.month,\n",
    "    \"Day_of_Week\": date_range.day_name()\n",
    "})\n",
    "\n",
    "# Save to CSV\n",
    "file_path = \"/Users/homemini/Desktop/How to use ChatGPT as Raw Data Generator/calendar_2024_2025.csv\"\n",
    "calendar_df.to_csv(file_path, index=False)\n",
    "\n",
    "file_path\n"
   ]
  }
 ],
 "metadata": {
  "kernelspec": {
   "display_name": "Python 3",
   "language": "python",
   "name": "python3"
  },
  "language_info": {
   "codemirror_mode": {
    "name": "ipython",
    "version": 3
   },
   "file_extension": ".py",
   "mimetype": "text/x-python",
   "name": "python",
   "nbconvert_exporter": "python",
   "pygments_lexer": "ipython3",
   "version": "3.13.0"
  }
 },
 "nbformat": 4,
 "nbformat_minor": 2
}
